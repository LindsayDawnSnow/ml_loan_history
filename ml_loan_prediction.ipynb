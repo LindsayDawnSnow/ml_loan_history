{
 "cells": [
  {
   "cell_type": "code",
   "execution_count": 2,
   "id": "0e0fb8e6",
   "metadata": {},
   "outputs": [],
   "source": [
    "from sklearn.linear_model import LogisticRegression\n",
    "from sklearn.tree import DecisionTreeClassifier\n",
    "from sklearn.ensemble import RandomForestClassifier, GradientBoostingClassifier\n",
    "from sklearn.model_selection import cross_val_score, GridSearchCV, train_test_split\n",
    "from sklearn.metrics import accuracy_score, precision_score, recall_score, f1_score, roc_auc_score\n",
    "from sklearn.metrics import confusion_matrix, ConfusionMatrixDisplay\n",
    "from sklearn.model_selection import cross_val_predict\n",
    "import numpy as np\n",
    "import matplotlib.pyplot as plt\n",
    "import pandas as pd\n",
    "import seaborn as sns"
   ]
  },
  {
   "cell_type": "code",
   "execution_count": 9,
   "id": "001709fe",
   "metadata": {},
   "outputs": [
    {
     "data": {
      "text/html": [
       "<div>\n",
       "<style scoped>\n",
       "    .dataframe tbody tr th:only-of-type {\n",
       "        vertical-align: middle;\n",
       "    }\n",
       "\n",
       "    .dataframe tbody tr th {\n",
       "        vertical-align: top;\n",
       "    }\n",
       "\n",
       "    .dataframe thead th {\n",
       "        text-align: right;\n",
       "    }\n",
       "</style>\n",
       "<table border=\"1\" class=\"dataframe\">\n",
       "  <thead>\n",
       "    <tr style=\"text-align: right;\">\n",
       "      <th></th>\n",
       "      <th>default</th>\n",
       "      <th>amount_of_loan</th>\n",
       "      <th>credit_rating</th>\n",
       "      <th>years_with_bank</th>\n",
       "      <th>rent_mortgage_own</th>\n",
       "      <th>income</th>\n",
       "      <th>age</th>\n",
       "    </tr>\n",
       "  </thead>\n",
       "  <tbody>\n",
       "    <tr>\n",
       "      <th>0</th>\n",
       "      <td>0</td>\n",
       "      <td>1000</td>\n",
       "      <td>B</td>\n",
       "      <td>2.0</td>\n",
       "      <td>0</td>\n",
       "      <td>19200.0</td>\n",
       "      <td>24</td>\n",
       "    </tr>\n",
       "    <tr>\n",
       "      <th>1</th>\n",
       "      <td>1</td>\n",
       "      <td>6500</td>\n",
       "      <td>A</td>\n",
       "      <td>2.0</td>\n",
       "      <td>1</td>\n",
       "      <td>66000.0</td>\n",
       "      <td>28</td>\n",
       "    </tr>\n",
       "    <tr>\n",
       "      <th>2</th>\n",
       "      <td>0</td>\n",
       "      <td>2400</td>\n",
       "      <td>A</td>\n",
       "      <td>2.0</td>\n",
       "      <td>0</td>\n",
       "      <td>60000.0</td>\n",
       "      <td>36</td>\n",
       "    </tr>\n",
       "    <tr>\n",
       "      <th>3</th>\n",
       "      <td>0</td>\n",
       "      <td>10000</td>\n",
       "      <td>C</td>\n",
       "      <td>3.0</td>\n",
       "      <td>0</td>\n",
       "      <td>62000.0</td>\n",
       "      <td>24</td>\n",
       "    </tr>\n",
       "    <tr>\n",
       "      <th>4</th>\n",
       "      <td>1</td>\n",
       "      <td>4000</td>\n",
       "      <td>C</td>\n",
       "      <td>2.0</td>\n",
       "      <td>0</td>\n",
       "      <td>20000.0</td>\n",
       "      <td>28</td>\n",
       "    </tr>\n",
       "  </tbody>\n",
       "</table>\n",
       "</div>"
      ],
      "text/plain": [
       "   default  amount_of_loan credit_rating  years_with_bank  rent_mortgage_own  \\\n",
       "0        0            1000             B              2.0                  0   \n",
       "1        1            6500             A              2.0                  1   \n",
       "2        0            2400             A              2.0                  0   \n",
       "3        0           10000             C              3.0                  0   \n",
       "4        1            4000             C              2.0                  0   \n",
       "\n",
       "    income  age  \n",
       "0  19200.0   24  \n",
       "1  66000.0   28  \n",
       "2  60000.0   36  \n",
       "3  62000.0   24  \n",
       "4  20000.0   28  "
      ]
     },
     "execution_count": 9,
     "metadata": {},
     "output_type": "execute_result"
    }
   ],
   "source": [
    "# Load the dataset\n",
    "df = pd.read_csv(r\"C:\\Users\\linds\\Documents\\git\\loan_history_almost_clean.csv\")\n",
    "df.head(5)"
   ]
  },
  {
   "cell_type": "code",
   "execution_count": 13,
   "id": "3625cd7a",
   "metadata": {},
   "outputs": [
    {
     "data": {
      "text/plain": [
       "7727"
      ]
     },
     "execution_count": 13,
     "metadata": {},
     "output_type": "execute_result"
    }
   ],
   "source": [
    "len(df)"
   ]
  },
  {
   "cell_type": "code",
   "execution_count": 11,
   "id": "d19c754b",
   "metadata": {},
   "outputs": [
    {
     "data": {
      "text/plain": [
       "True"
      ]
     },
     "execution_count": 11,
     "metadata": {},
     "output_type": "execute_result"
    }
   ],
   "source": [
    "#Check for Null values\n",
    "df.isnull().values.any()"
   ]
  },
  {
   "cell_type": "code",
   "execution_count": 12,
   "id": "907996f7",
   "metadata": {},
   "outputs": [
    {
     "data": {
      "text/plain": [
       "default              0\n",
       "amount_of_loan       0\n",
       "credit_rating        0\n",
       "years_with_bank      1\n",
       "rent_mortgage_own    0\n",
       "income               0\n",
       "age                  0\n",
       "dtype: int64"
      ]
     },
     "execution_count": 12,
     "metadata": {},
     "output_type": "execute_result"
    }
   ],
   "source": [
    "# WHat columns have null values?\n",
    "df.isnull().sum()"
   ]
  },
  {
   "cell_type": "code",
   "execution_count": 15,
   "id": "1231f6df",
   "metadata": {},
   "outputs": [],
   "source": [
    "# With only one null, it can be dropped\n",
    "df = df.dropna()"
   ]
  },
  {
   "cell_type": "code",
   "execution_count": 16,
   "id": "00d68979",
   "metadata": {},
   "outputs": [
    {
     "data": {
      "text/plain": [
       "7726"
      ]
     },
     "execution_count": 16,
     "metadata": {},
     "output_type": "execute_result"
    }
   ],
   "source": [
    "len(df)"
   ]
  },
  {
   "cell_type": "markdown",
   "id": "8b310083",
   "metadata": {},
   "source": [
    "## Data must be converted to numerical, mapping will be used in this instance"
   ]
  },
  {
   "cell_type": "code",
   "execution_count": 18,
   "id": "9b8f056e",
   "metadata": {},
   "outputs": [
    {
     "data": {
      "text/html": [
       "<div>\n",
       "<style scoped>\n",
       "    .dataframe tbody tr th:only-of-type {\n",
       "        vertical-align: middle;\n",
       "    }\n",
       "\n",
       "    .dataframe tbody tr th {\n",
       "        vertical-align: top;\n",
       "    }\n",
       "\n",
       "    .dataframe thead th {\n",
       "        text-align: right;\n",
       "    }\n",
       "</style>\n",
       "<table border=\"1\" class=\"dataframe\">\n",
       "  <thead>\n",
       "    <tr style=\"text-align: right;\">\n",
       "      <th></th>\n",
       "      <th>default</th>\n",
       "      <th>amount_of_loan</th>\n",
       "      <th>credit_rating</th>\n",
       "      <th>years_with_bank</th>\n",
       "      <th>rent_mortgage_own</th>\n",
       "      <th>income</th>\n",
       "      <th>age</th>\n",
       "    </tr>\n",
       "  </thead>\n",
       "  <tbody>\n",
       "    <tr>\n",
       "      <th>0</th>\n",
       "      <td>0</td>\n",
       "      <td>1000</td>\n",
       "      <td>2</td>\n",
       "      <td>2.0</td>\n",
       "      <td>0</td>\n",
       "      <td>19200.0</td>\n",
       "      <td>24</td>\n",
       "    </tr>\n",
       "    <tr>\n",
       "      <th>1</th>\n",
       "      <td>1</td>\n",
       "      <td>6500</td>\n",
       "      <td>1</td>\n",
       "      <td>2.0</td>\n",
       "      <td>1</td>\n",
       "      <td>66000.0</td>\n",
       "      <td>28</td>\n",
       "    </tr>\n",
       "    <tr>\n",
       "      <th>2</th>\n",
       "      <td>0</td>\n",
       "      <td>2400</td>\n",
       "      <td>1</td>\n",
       "      <td>2.0</td>\n",
       "      <td>0</td>\n",
       "      <td>60000.0</td>\n",
       "      <td>36</td>\n",
       "    </tr>\n",
       "    <tr>\n",
       "      <th>3</th>\n",
       "      <td>0</td>\n",
       "      <td>10000</td>\n",
       "      <td>3</td>\n",
       "      <td>3.0</td>\n",
       "      <td>0</td>\n",
       "      <td>62000.0</td>\n",
       "      <td>24</td>\n",
       "    </tr>\n",
       "    <tr>\n",
       "      <th>4</th>\n",
       "      <td>1</td>\n",
       "      <td>4000</td>\n",
       "      <td>3</td>\n",
       "      <td>2.0</td>\n",
       "      <td>0</td>\n",
       "      <td>20000.0</td>\n",
       "      <td>28</td>\n",
       "    </tr>\n",
       "  </tbody>\n",
       "</table>\n",
       "</div>"
      ],
      "text/plain": [
       "   default  amount_of_loan  credit_rating  years_with_bank  rent_mortgage_own  \\\n",
       "0        0            1000              2              2.0                  0   \n",
       "1        1            6500              1              2.0                  1   \n",
       "2        0            2400              1              2.0                  0   \n",
       "3        0           10000              3              3.0                  0   \n",
       "4        1            4000              3              2.0                  0   \n",
       "\n",
       "    income  age  \n",
       "0  19200.0   24  \n",
       "1  66000.0   28  \n",
       "2  60000.0   36  \n",
       "3  62000.0   24  \n",
       "4  20000.0   28  "
      ]
     },
     "execution_count": 18,
     "metadata": {},
     "output_type": "execute_result"
    }
   ],
   "source": [
    "# map credit rating to a number\n",
    "int_credit_rating = {\"credit_rating\": {\"A\": 1, \"B\": 2, \"C\": 3, \"D\": 4, \"E\": 5, \"F\": 5, \"G\": 5}}\n",
    "df = df.replace(int_credit_rating)\n",
    "df.head()"
   ]
  },
  {
   "cell_type": "markdown",
   "id": "22eb0ec5",
   "metadata": {},
   "source": [
    "### Logistic Regression"
   ]
  },
  {
   "cell_type": "code",
   "execution_count": 19,
   "id": "d10c2fa2",
   "metadata": {},
   "outputs": [
    {
     "name": "stdout",
     "output_type": "stream",
     "text": [
      "Best hyperparameters:  {'C': 0.1, 'class_weight': 'balanced', 'max_iter': 500}\n",
      "Test accuracy:  0.6319534282018111\n"
     ]
    }
   ],
   "source": [
    "# Split the dataset into training and testing sets\n",
    "X_train, X_test, y_train, y_test = train_test_split(df.drop('default', axis=1), df['default'], test_size=0.2, random_state=42)\n",
    "\n",
    "# Create a logistic regression model with L1 regularization\n",
    "lr_model = LogisticRegression(penalty='l1', solver='liblinear')\n",
    "\n",
    "param_grid = {'C': [0.1, 1, 10, 100],\n",
    "              'class_weight': [None, 'balanced'],\n",
    "              'max_iter': [100, 500, 1000]}\n",
    "\n",
    "# Perform grid search using 5-fold cross-validation\n",
    "lr_grid = GridSearchCV(lr_model, param_grid, cv=5, scoring='accuracy')\n",
    "\n",
    "# Fit the grid search to the training data\n",
    "lr_grid.fit(X_train, y_train)\n",
    "\n",
    "# Print the best hyperparameters and corresponding test accuracy\n",
    "print(\"Best hyperparameters: \", lr_grid.best_params_)\n",
    "print(\"Test accuracy: \", lr_grid.score(X_test, y_test))"
   ]
  },
  {
   "cell_type": "code",
   "execution_count": 21,
   "id": "27f30001",
   "metadata": {},
   "outputs": [
    {
     "name": "stdout",
     "output_type": "stream",
     "text": [
      "Test accuracy: 0.62\n",
      "[[589 210]\n",
      " [376 371]]\n"
     ]
    }
   ],
   "source": [
    "# Fit the model on the training set\n",
    "lr_model.fit(X_train, y_train)\n",
    "\n",
    "# Predict the classes of the testing set\n",
    "y_pred = lr_model.predict(X_test)\n",
    "\n",
    "# Calculate the test accuracy\n",
    "accuracy = lr_model.score(X_test, y_test)\n",
    "print(f'Test accuracy: {accuracy:.2f}')\n",
    "\n",
    "# display the confusion matrix\n",
    "#\n",
    "# TP FP\n",
    "# FN TN\n",
    "cm = confusion_matrix(y_test, y_pred)\n",
    "print(cm)"
   ]
  },
  {
   "cell_type": "code",
   "execution_count": 29,
   "id": "a97d8b3b",
   "metadata": {},
   "outputs": [
    {
     "data": {
      "text/plain": [
       "<Axes: >"
      ]
     },
     "execution_count": 29,
     "metadata": {},
     "output_type": "execute_result"
    },
    {
     "data": {
      "image/png": "[encoded data removed]",
      "text/plain": [
       "<Figure size 800x800 with 2 Axes>"
      ]
     },
     "metadata": {},
     "output_type": "display_data"
    }
   ],
   "source": [
    "#Correlation Matrix\n",
    "plt.figure(figsize=(8,8))\n",
    "sns.heatmap(df.corr(),annot=True)"
   ]
  },
  {
   "cell_type": "markdown",
   "id": "0b09bd51",
   "metadata": {},
   "source": [
    "## Not great accuracy, can another model do better?"
   ]
  },
  {
   "cell_type": "code",
   "execution_count": 23,
   "id": "37f5e294",
   "metadata": {},
   "outputs": [],
   "source": [
    "# Setting up multiple regression moels\n",
    "import pandas as pd\n",
    "import sklearn\n",
    "from sklearn.model_selection import train_test_split\n",
    "\n",
    "# vanilla linear regression\n",
    "from sklearn.linear_model import LinearRegression\n",
    "# decision tree\n",
    "from sklearn.tree import DecisionTreeRegressor\n",
    "# random forest\n",
    "from sklearn.ensemble import RandomForestRegressor\n",
    "# gradient boost\n",
    "from sklearn.ensemble import GradientBoostingRegressor\n",
    "# elastic net\n",
    "from sklearn.linear_model import ElasticNet\n",
    "# stochastic gradient descent regression\n",
    "from sklearn.linear_model import SGDRegressor\n",
    "# support vector machine\n",
    "from sklearn.svm import SVR\n",
    "# bayesian ridge regression\n",
    "from sklearn.linear_model import BayesianRidge\n",
    "# kernel ridge\n",
    "from sklearn.kernel_ridge import KernelRidge\n",
    "# xgboost\n",
    "#from xgboost.sklearn import XGBRegressor\n",
    "# LGBM\n",
    "#from lightgbm import LGBMRegressor\n",
    "\n",
    "# measuring how we do \n",
    "from sklearn import metrics\n",
    "from sklearn.metrics import mean_squared_error, mean_absolute_error, r2_score\n",
    "\n",
    "# scaler\n",
    "from sklearn.preprocessing import StandardScaler"
   ]
  },
  {
   "cell_type": "code",
   "execution_count": 24,
   "id": "14d8be0e",
   "metadata": {},
   "outputs": [],
   "source": [
    "# Define the input features and target variable\n",
    "X = df[['amount_of_loan', 'credit_rating', 'years_with_bank', 'rent_mortgage_own', 'income', 'age']]\n",
    "y = df['default']"
   ]
  },
  {
   "cell_type": "code",
   "execution_count": 25,
   "id": "2a7e86bd",
   "metadata": {},
   "outputs": [
    {
     "data": {
      "text/plain": [
       "[LinearRegression(),\n",
       " DecisionTreeRegressor(),\n",
       " RandomForestRegressor(),\n",
       " GradientBoostingRegressor(),\n",
       " ElasticNet(),\n",
       " SGDRegressor(),\n",
       " SVR(),\n",
       " BayesianRidge(),\n",
       " KernelRidge()]"
      ]
     },
     "execution_count": 25,
     "metadata": {},
     "output_type": "execute_result"
    }
   ],
   "source": [
    "# create a list of regression models to try\n",
    "models = [LinearRegression(), DecisionTreeRegressor(), RandomForestRegressor(), GradientBoostingRegressor(),\n",
    "ElasticNet(), SGDRegressor(), SVR(), BayesianRidge(), KernelRidge()]\n",
    "models"
   ]
  },
  {
   "cell_type": "code",
   "execution_count": 26,
   "id": "ede1b7fe",
   "metadata": {},
   "outputs": [
    {
     "name": "stdout",
     "output_type": "stream",
     "text": [
      "(6180, 6)\n",
      "(1546, 6)\n"
     ]
    }
   ],
   "source": [
    "print(X_train.shape)\n",
    "print(X_test.shape)"
   ]
  },
  {
   "cell_type": "code",
   "execution_count": 27,
   "id": "2ce329ba",
   "metadata": {},
   "outputs": [
    {
     "name": "stdout",
     "output_type": "stream",
     "text": [
      "We want low MSE and MAE and an R-squared as close to 1 as possible\n",
      "\n",
      "LinearRegression\n",
      "MSE: 0.2329\n",
      "MAE: 0.4596\n",
      "R-squared: 0.0675\n",
      "\n",
      "DecisionTreeRegressor\n",
      "MSE: 0.4004\n",
      "MAE: 0.4004\n",
      "R-squared: -0.6034\n",
      "\n",
      "RandomForestRegressor\n",
      "MSE: 0.2165\n",
      "MAE: 0.4117\n",
      "R-squared: 0.1330\n",
      "\n",
      "GradientBoostingRegressor\n",
      "MSE: 0.2250\n",
      "MAE: 0.4454\n",
      "R-squared: 0.0991\n",
      "\n",
      "ElasticNet\n",
      "MSE: 0.2487\n",
      "MAE: 0.4957\n",
      "R-squared: 0.0043\n",
      "\n",
      "SGDRegressor\n",
      "MSE: 1226640105051846944709829085282435072.0000\n",
      "MAE: 743290666186356736.0000\n",
      "R-squared: -4912117625824282514254314646351642624.0000\n",
      "\n",
      "SVR\n",
      "MSE: 0.2940\n",
      "MAE: 0.4575\n",
      "R-squared: -0.1772\n",
      "\n",
      "BayesianRidge\n",
      "MSE: 0.2328\n",
      "MAE: 0.4600\n",
      "R-squared: 0.0677\n",
      "\n",
      "KernelRidge\n",
      "MSE: 0.2362\n",
      "MAE: 0.4560\n",
      "R-squared: 0.0542\n"
     ]
    }
   ],
   "source": [
    "# loop through each model and train on the same training data\n",
    "print('We want low MSE and MAE and an R-squared as close to 1 as possible')\n",
    "for model in models:\n",
    "    print('\\n'+ type(model).__name__)\n",
    "    model.fit(X_train, y_train.ravel())\n",
    "\n",
    "    # make prediction on test set\n",
    "    y_pred = model.predict(X_test)\n",
    "    \n",
    "    # report effectiveness of model\n",
    "    # use MSE, MAE and R-2\n",
    "    # (no confusion matrix, because we are predicting in a range and not classifying to a set)\n",
    "    print('MSE: {0:.4f}'.format(mean_squared_error(y_test, y_pred)))\n",
    "    print('MAE: {0:.4f}'.format(mean_absolute_error(y_test, y_pred)))\n",
    "    print('R-squared: {0:.4f}'.format(r2_score(y_test, y_pred)))"
   ]
  },
  {
   "cell_type": "markdown",
   "id": "9f879ba1",
   "metadata": {},
   "source": [
    "## Random Forest Regressor is displaying the best results, exploring further"
   ]
  },
  {
   "cell_type": "code",
   "execution_count": null,
   "id": "f77b89a7",
   "metadata": {},
   "outputs": [],
   "source": []
  }
 ],
 "metadata": {
  "kernelspec": {
   "display_name": "Python 3 (ipykernel)",
   "language": "python",
   "name": "python3"
  },
  "language_info": {
   "codemirror_mode": {
    "name": "ipython",
    "version": 3
   },
   "file_extension": ".py",
   "mimetype": "text/x-python",
   "name": "python",
   "nbconvert_exporter": "python",
   "pygments_lexer": "ipython3",
   "version": "3.9.7"
  }
 },
 "nbformat": 4,
 "nbformat_minor": 5
}
