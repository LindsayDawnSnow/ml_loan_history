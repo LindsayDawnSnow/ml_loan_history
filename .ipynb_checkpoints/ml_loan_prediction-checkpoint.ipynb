{
 "cells": [
  {
   "cell_type": "code",
   "execution_count": null,
   "id": "d52acd42",
   "metadata": {},
   "outputs": [],
   "source": [
    "from sklearn.linear_model import LogisticRegression\n",
    "from sklearn.tree import DecisionTreeClassifier\n",
    "from sklearn.ensemble import RandomForestClassifier, GradientBoostingClassifier\n",
    "from sklearn.model_selection import cross_val_score, GridSearchCV, train_test_split\n",
    "from sklearn.metrics import accuracy_score, precision_score, recall_score, f1_score, roc_auc_score\n",
    "from sklearn.metrics import confusion_matrix, ConfusionMatrixDisplay\n",
    "from sklearn.model_selection import cross_val_predict\n",
    "import numpy as np\n",
    "import matplotlib.pyplot as plt\n",
    "import pandas as pd\n",
    "import seaborn as sns"
   ]
  },
  {
   "cell_type": "code",
   "execution_count": null,
   "id": "2140f252",
   "metadata": {},
   "outputs": [],
   "source": [
    "# Load the dataset\n",
    "df = pd.read_csv(r\"C:\\Users\\linds\\Documents\\git\\loan_history_almost_clean.csv\")\n",
    "df.head(5)"
   ]
  },
  {
   "cell_type": "code",
   "execution_count": null,
   "id": "8968098c",
   "metadata": {},
   "outputs": [],
   "source": [
    "len(df)"
   ]
  },
  {
   "cell_type": "code",
   "execution_count": null,
   "id": "ec253e32",
   "metadata": {},
   "outputs": [],
   "source": [
    "#Check for Null values\n",
    "df.isnull().values.any()"
   ]
  },
  {
   "cell_type": "code",
   "execution_count": null,
   "id": "9a0f82bd",
   "metadata": {},
   "outputs": [],
   "source": [
    "# WHat columns have null values?\n",
    "df.isnull().sum()"
   ]
  },
  {
   "cell_type": "code",
   "execution_count": null,
   "id": "f96ceb10",
   "metadata": {},
   "outputs": [],
   "source": [
    "# With only one null, it can be dropped\n",
    "df = df.dropna()"
   ]
  },
  {
   "cell_type": "code",
   "execution_count": null,
   "id": "6f43d462",
   "metadata": {},
   "outputs": [],
   "source": [
    "len(df)"
   ]
  },
  {
   "cell_type": "markdown",
   "id": "db91eba3",
   "metadata": {},
   "source": [
    "## Data must be converted to numerical, mapping will be used in this instance"
   ]
  },
  {
   "cell_type": "code",
   "execution_count": null,
   "id": "0c1be5be",
   "metadata": {},
   "outputs": [],
   "source": [
    "# map credit rating to a number\n",
    "int_credit_rating = {\"credit_rating\": {\"A\": 1, \"B\": 2, \"C\": 3, \"D\": 4, \"E\": 5, \"F\": 5, \"G\": 5}}\n",
    "df = df.replace(int_credit_rating)\n",
    "df.head()"
   ]
  },
  {
   "cell_type": "markdown",
   "id": "2f2f100f",
   "metadata": {},
   "source": [
    "### Logistic Regression"
   ]
  },
  {
   "cell_type": "code",
   "execution_count": null,
   "id": "5f7d8643",
   "metadata": {},
   "outputs": [],
   "source": [
    "# Split the dataset into training and testing sets\n",
    "X_train, X_test, y_train, y_test = train_test_split(df.drop('default', axis=1), df['default'], test_size=0.2, random_state=42)\n",
    "\n",
    "# Create a logistic regression model with L1 regularization\n",
    "lr_model = LogisticRegression(penalty='l1', solver='liblinear')\n",
    "\n",
    "param_grid = {'C': [0.1, 1, 10, 100],\n",
    "              'class_weight': [None, 'balanced'],\n",
    "              'max_iter': [100, 500, 1000]}\n",
    "\n",
    "# Perform grid search using 5-fold cross-validation\n",
    "lr_grid = GridSearchCV(lr_model, param_grid, cv=5, scoring='accuracy')\n",
    "\n",
    "# Fit the grid search to the training data\n",
    "lr_grid.fit(X_train, y_train)\n",
    "\n",
    "# Print the best hyperparameters and corresponding test accuracy\n",
    "print(\"Best hyperparameters: \", lr_grid.best_params_)\n",
    "print(\"Test accuracy: \", lr_grid.score(X_test, y_test))"
   ]
  },
  {
   "cell_type": "code",
   "execution_count": null,
   "id": "bff42679",
   "metadata": {},
   "outputs": [],
   "source": [
    "# Fit the model on the training set\n",
    "lr_model.fit(X_train, y_train)\n",
    "\n",
    "# Predict the classes of the testing set\n",
    "y_pred = lr_model.predict(X_test)\n",
    "\n",
    "# Calculate the test accuracy\n",
    "accuracy = lr_model.score(X_test, y_test)\n",
    "print(f'Test accuracy: {accuracy:.2f}')\n",
    "\n",
    "# display the confusion matrix\n",
    "#\n",
    "# TP FP\n",
    "# FN TN\n",
    "cm = confusion_matrix(y_test, y_pred)\n",
    "print(cm)"
   ]
  },
  {
   "cell_type": "code",
   "execution_count": null,
   "id": "cc493a5c",
   "metadata": {},
   "outputs": [],
   "source": [
    "#Correlation Matrix\n",
    "plt.figure(figsize=(8,8))\n",
    "sns.heatmap(df.corr(),annot=True)"
   ]
  },
  {
   "cell_type": "markdown",
   "id": "36056f62",
   "metadata": {},
   "source": [
    "## Not great accuracy, can another model do better?"
   ]
  },
  {
   "cell_type": "code",
   "execution_count": null,
   "id": "f7b54e4d",
   "metadata": {},
   "outputs": [],
   "source": [
    "# Setting up multiple regression moels\n",
    "import pandas as pd\n",
    "import sklearn\n",
    "from sklearn.model_selection import train_test_split\n",
    "\n",
    "# vanilla linear regression\n",
    "from sklearn.linear_model import LinearRegression\n",
    "# decision tree\n",
    "from sklearn.tree import DecisionTreeRegressor\n",
    "# random forest\n",
    "from sklearn.ensemble import RandomForestRegressor\n",
    "# gradient boost\n",
    "from sklearn.ensemble import GradientBoostingRegressor\n",
    "# elastic net\n",
    "from sklearn.linear_model import ElasticNet\n",
    "# stochastic gradient descent regression\n",
    "from sklearn.linear_model import SGDRegressor\n",
    "# support vector machine\n",
    "from sklearn.svm import SVR\n",
    "# bayesian ridge regression\n",
    "from sklearn.linear_model import BayesianRidge\n",
    "# kernel ridge\n",
    "from sklearn.kernel_ridge import KernelRidge\n",
    "# xgboost\n",
    "#from xgboost.sklearn import XGBRegressor\n",
    "# LGBM\n",
    "#from lightgbm import LGBMRegressor\n",
    "\n",
    "# measuring how we do \n",
    "from sklearn import metrics\n",
    "from sklearn.metrics import mean_squared_error, mean_absolute_error, r2_score\n",
    "\n",
    "# scaler\n",
    "from sklearn.preprocessing import StandardScaler"
   ]
  },
  {
   "cell_type": "code",
   "execution_count": null,
   "id": "b8416bad",
   "metadata": {},
   "outputs": [],
   "source": [
    "# Define the input features and target variable\n",
    "X = df[['amount_of_loan', 'credit_rating', 'years_with_bank', 'rent_mortgage_own', 'income', 'age']]\n",
    "y = df['default']"
   ]
  },
  {
   "cell_type": "code",
   "execution_count": null,
   "id": "ae9f905d",
   "metadata": {},
   "outputs": [],
   "source": [
    "# create a list of regression models to try\n",
    "models = [LinearRegression(), DecisionTreeRegressor(), RandomForestRegressor(), GradientBoostingRegressor(),\n",
    "ElasticNet(), SGDRegressor(), SVR(), BayesianRidge(), KernelRidge()]\n",
    "models"
   ]
  },
  {
   "cell_type": "code",
   "execution_count": null,
   "id": "c0533d36",
   "metadata": {},
   "outputs": [],
   "source": [
    "print(X_train.shape)\n",
    "print(X_test.shape)"
   ]
  },
  {
   "cell_type": "code",
   "execution_count": null,
   "id": "6907f93d",
   "metadata": {},
   "outputs": [],
   "source": [
    "# loop through each model and train on the same training data\n",
    "print('We want low MSE and MAE and an R-squared as close to 1 as possible')\n",
    "for model in models:\n",
    "    print('\\n'+ type(model).__name__)\n",
    "    model.fit(X_train, y_train.ravel())\n",
    "\n",
    "    # make prediction on test set\n",
    "    y_pred = model.predict(X_test)\n",
    "    \n",
    "    # report effectiveness of model\n",
    "    # use MSE, MAE and R-2\n",
    "    # (no confusion matrix, because we are predicting in a range and not classifying to a set)\n",
    "    print('MSE: {0:.4f}'.format(mean_squared_error(y_test, y_pred)))\n",
    "    print('MAE: {0:.4f}'.format(mean_absolute_error(y_test, y_pred)))\n",
    "    print('R-squared: {0:.4f}'.format(r2_score(y_test, y_pred)))"
   ]
  },
  {
   "cell_type": "markdown",
   "id": "e1c2c951",
   "metadata": {},
   "source": [
    "## Random Forest Regressor is displaying the best results, exploring further"
   ]
  },
  {
   "cell_type": "code",
   "execution_count": null,
   "id": "e81de996",
   "metadata": {},
   "outputs": [],
   "source": [
    "# Split the data into training and validation sets\n",
    "X_train, X_val, y_train, y_val = train_test_split(X, y, test_size=0.2, random_state=13)\n",
    "# Define the model\n",
    "forest = RandomForestClassifier()"
   ]
  },
  {
   "cell_type": "code",
   "execution_count": null,
   "id": "b3580a8b",
   "metadata": {},
   "outputs": [],
   "source": [
    "#Train the model\n",
    "forest.fit(X_train, y_train)"
   ]
  },
  {
   "cell_type": "code",
   "execution_count": null,
   "id": "65eb4ed2",
   "metadata": {},
   "outputs": [],
   "source": [
    "# Evaluate the model\n",
    "forest_scores = cross_val_score(forest, X_train, y_train, cv=5, scoring='accuracy')"
   ]
  },
  {
   "cell_type": "code",
   "execution_count": null,
   "id": "8c1b2539",
   "metadata": {},
   "outputs": [],
   "source": [
    "# Print the score\n",
    "print('Random Forest scores:', forest_scores.mean())"
   ]
  },
  {
   "cell_type": "markdown",
   "id": "788d9de0",
   "metadata": {},
   "source": [
    "## It's not great accuracy, but cross validation can be done"
   ]
  },
  {
   "cell_type": "code",
   "execution_count": null,
   "id": "250c4e29",
   "metadata": {},
   "outputs": [],
   "source": [
    "# Define the forest parameter grid search\n",
    "forest_param_grid = {'n_estimators': [100, 200, 300],\n",
    "              'max_depth': [None, 5, 10],\n",
    "              'min_samples_split': [2, 5],\n",
    "              'min_samples_leaf': [1, 2]}"
   ]
  },
  {
   "cell_type": "code",
   "execution_count": null,
   "id": "12e42160",
   "metadata": {},
   "outputs": [],
   "source": [
    "#Find best hyperparameters, 5 folds\n",
    "forest_grid = GridSearchCV(forest, forest_param_grid, cv=5, scoring='accuracy')\n",
    "forest_grid.fit(X_train, y_train)"
   ]
  },
  {
   "cell_type": "code",
   "execution_count": null,
   "id": "a78c3d53",
   "metadata": {},
   "outputs": [],
   "source": [
    "# Display best parameters and score\n",
    "print('Best hyperparameters:', forest_grid.best_params_)\n",
    "print('Best score:', forest_grid.best_score_)"
   ]
  },
  {
   "cell_type": "code",
   "execution_count": null,
   "id": "5bb6b477",
   "metadata": {},
   "outputs": [],
   "source": [
    "# Get the feature importances\n",
    "importances = forest.feature_importances_\n",
    "\n",
    "# Create a list of feature names\n",
    "feature_names = ['amount_of_loan', 'credit_rating', 'years_with_bank', 'rent_mortgage_own', 'income', 'age']\n",
    "\n",
    "# Print the feature importances\n",
    "for feature_name, importance in zip(feature_names, importances):\n",
    "    print(f'{feature_name}: {importance:.3f}')"
   ]
  },
  {
   "cell_type": "code",
   "execution_count": null,
   "id": "a9819657",
   "metadata": {},
   "outputs": [],
   "source": [
    "# Create a bar chart of feature importances\n",
    "plt.bar(feature_names, importances)\n",
    "\n",
    "# Define a list of colors for each feature\n",
    "colors = ['#1f77b4', '#ff7f0e', '#2ca02c', '#d62728', '#9467bd']\n",
    "\n",
    "# Add labels and title\n",
    "plt.xlabel('Feature')\n",
    "plt.ylabel('Importance')\n",
    "plt.title('Random Forest Feature Importances', color=colors)\n",
    "\n",
    "# Rotate x-axis labels for readability\n",
    "plt.xticks(rotation=45)\n",
    "\n",
    "fig.tight_layout()\n",
    "\n",
    "# Show the plot\n",
    "plt.show()"
   ]
  },
  {
   "cell_type": "code",
   "execution_count": null,
   "id": "cedfa7a2",
   "metadata": {},
   "outputs": [],
   "source": []
  },
  {
   "cell_type": "code",
   "execution_count": null,
   "id": "29571e87",
   "metadata": {},
   "outputs": [],
   "source": []
  }
 ],
 "metadata": {
  "kernelspec": {
   "display_name": "Python 3 (ipykernel)",
   "language": "python",
   "name": "python3"
  },
  "language_info": {
   "codemirror_mode": {
    "name": "ipython",
    "version": 3
   },
   "file_extension": ".py",
   "mimetype": "text/x-python",
   "name": "python",
   "nbconvert_exporter": "python",
   "pygments_lexer": "ipython3",
   "version": "3.9.7"
  }
 },
 "nbformat": 4,
 "nbformat_minor": 5
}
